{
  "nbformat": 4,
  "nbformat_minor": 0,
  "metadata": {
    "kernelspec": {
      "display_name": "Python 3",
      "language": "python",
      "name": "python3"
    },
    "language_info": {
      "codemirror_mode": {
        "name": "ipython",
        "version": 3
      },
      "file_extension": ".py",
      "mimetype": "text/x-python",
      "name": "python",
      "nbconvert_exporter": "python",
      "pygments_lexer": "ipython3",
      "version": "3.8.5"
    },
    "colab": {
      "name": "NLP.ipynb",
      "provenance": []
    }
  },
  "cells": [
    {
      "cell_type": "code",
      "metadata": {
        "id": "-8W6IqPGkrKf",
        "outputId": "4f51648e-a5c5-4314-88a3-7badab3914c7"
      },
      "source": [
        "import pandas as pd\n",
        "df1 = pd.read_excel('Women Entrepreneurs Meetup (Responses).xlsx')\n",
        "df1"
      ],
      "execution_count": null,
      "outputs": [
        {
          "data": {
            "text/html": [
              "<div>\n",
              "<style scoped>\n",
              "    .dataframe tbody tr th:only-of-type {\n",
              "        vertical-align: middle;\n",
              "    }\n",
              "\n",
              "    .dataframe tbody tr th {\n",
              "        vertical-align: top;\n",
              "    }\n",
              "\n",
              "    .dataframe thead th {\n",
              "        text-align: right;\n",
              "    }\n",
              "</style>\n",
              "<table border=\"1\" class=\"dataframe\">\n",
              "  <thead>\n",
              "    <tr style=\"text-align: right;\">\n",
              "      <th></th>\n",
              "      <th>Timestamp</th>\n",
              "      <th>Full Name</th>\n",
              "      <th>City</th>\n",
              "      <th>Brief about your start-up</th>\n",
              "    </tr>\n",
              "  </thead>\n",
              "  <tbody>\n",
              "    <tr>\n",
              "      <th>0</th>\n",
              "      <td>2020-08-20 16:39:50.273</td>\n",
              "      <td>Mehak Nayyar</td>\n",
              "      <td>Bareilly</td>\n",
              "      <td>Make handmade products at home related to knit...</td>\n",
              "    </tr>\n",
              "    <tr>\n",
              "      <th>1</th>\n",
              "      <td>2020-08-20 18:08:17.990</td>\n",
              "      <td>Anshika Jain</td>\n",
              "      <td>Sagar</td>\n",
              "      <td>Craft based product design</td>\n",
              "    </tr>\n",
              "    <tr>\n",
              "      <th>2</th>\n",
              "      <td>2020-08-20 18:14:07.821</td>\n",
              "      <td>Bhairavee Pradhan-Nitave</td>\n",
              "      <td>Pune</td>\n",
              "      <td>I am a working professional.</td>\n",
              "    </tr>\n",
              "    <tr>\n",
              "      <th>3</th>\n",
              "      <td>2020-08-20 18:21:00.268</td>\n",
              "      <td>Monika</td>\n",
              "      <td>Chennai</td>\n",
              "      <td>Really new to this  so no idea</td>\n",
              "    </tr>\n",
              "    <tr>\n",
              "      <th>4</th>\n",
              "      <td>2020-08-20 19:32:41.238</td>\n",
              "      <td>Stuti Prasad</td>\n",
              "      <td>MUMBAI</td>\n",
              "      <td>I am working with a road safety startup.</td>\n",
              "    </tr>\n",
              "    <tr>\n",
              "      <th>...</th>\n",
              "      <td>...</td>\n",
              "      <td>...</td>\n",
              "      <td>...</td>\n",
              "      <td>...</td>\n",
              "    </tr>\n",
              "    <tr>\n",
              "      <th>93</th>\n",
              "      <td>2020-10-02 10:55:11.504</td>\n",
              "      <td>Nancy Felix</td>\n",
              "      <td>Navi Mumbai</td>\n",
              "      <td>Eco friendly and reusable cups and plates</td>\n",
              "    </tr>\n",
              "    <tr>\n",
              "      <th>94</th>\n",
              "      <td>2020-10-02 17:28:00.851</td>\n",
              "      <td>Renuka Deshmukh</td>\n",
              "      <td>Mumbai</td>\n",
              "      <td>Rural Educationist</td>\n",
              "    </tr>\n",
              "    <tr>\n",
              "      <th>95</th>\n",
              "      <td>2020-10-02 20:28:38.458</td>\n",
              "      <td>Iba Basan</td>\n",
              "      <td>Shillong</td>\n",
              "      <td>I started with a small online btob app with th...</td>\n",
              "    </tr>\n",
              "    <tr>\n",
              "      <th>96</th>\n",
              "      <td>2020-10-03 12:59:57.427</td>\n",
              "      <td>Jayant tiwari</td>\n",
              "      <td>Pune</td>\n",
              "      <td>Coaching</td>\n",
              "    </tr>\n",
              "    <tr>\n",
              "      <th>97</th>\n",
              "      <td>2020-10-09 14:17:28.803</td>\n",
              "      <td>SAJJA SAI PRIYANKA</td>\n",
              "      <td>HYDERABAD</td>\n",
              "      <td>Artha Samarth is a social venture aimed to bui...</td>\n",
              "    </tr>\n",
              "  </tbody>\n",
              "</table>\n",
              "<p>98 rows × 4 columns</p>\n",
              "</div>"
            ],
            "text/plain": [
              "                 Timestamp                 Full Name         City  \\\n",
              "0  2020-08-20 16:39:50.273              Mehak Nayyar     Bareilly   \n",
              "1  2020-08-20 18:08:17.990              Anshika Jain        Sagar   \n",
              "2  2020-08-20 18:14:07.821  Bhairavee Pradhan-Nitave         Pune   \n",
              "3  2020-08-20 18:21:00.268                    Monika      Chennai   \n",
              "4  2020-08-20 19:32:41.238              Stuti Prasad       MUMBAI   \n",
              "..                     ...                       ...          ...   \n",
              "93 2020-10-02 10:55:11.504               Nancy Felix  Navi Mumbai   \n",
              "94 2020-10-02 17:28:00.851           Renuka Deshmukh       Mumbai   \n",
              "95 2020-10-02 20:28:38.458                 Iba Basan     Shillong   \n",
              "96 2020-10-03 12:59:57.427             Jayant tiwari         Pune   \n",
              "97 2020-10-09 14:17:28.803        SAJJA SAI PRIYANKA    HYDERABAD   \n",
              "\n",
              "                           Brief about your start-up   \n",
              "0   Make handmade products at home related to knit...  \n",
              "1                          Craft based product design  \n",
              "2                        I am a working professional.  \n",
              "3                     Really new to this  so no idea   \n",
              "4            I am working with a road safety startup.  \n",
              "..                                                ...  \n",
              "93          Eco friendly and reusable cups and plates  \n",
              "94                                Rural Educationist   \n",
              "95  I started with a small online btob app with th...  \n",
              "96                                           Coaching  \n",
              "97  Artha Samarth is a social venture aimed to bui...  \n",
              "\n",
              "[98 rows x 4 columns]"
            ]
          },
          "execution_count": 3,
          "metadata": {},
          "output_type": "execute_result"
        }
      ]
    },
    {
      "cell_type": "code",
      "metadata": {
        "id": "i8-X-3OGkrKl"
      },
      "source": [
        "df=df1.iloc[:,3]\n",
        "df"
      ],
      "execution_count": null,
      "outputs": []
    },
    {
      "cell_type": "code",
      "metadata": {
        "id": "WrD5yaLhkrKn"
      },
      "source": [
        "df=df.str.lower()"
      ],
      "execution_count": null,
      "outputs": []
    },
    {
      "cell_type": "code",
      "metadata": {
        "id": "elbHq28_krKo"
      },
      "source": [
        "from nltk.tokenize import word_tokenize\n",
        "from collections import Counter\n",
        "import string\n",
        "df=df.to_string() "
      ],
      "execution_count": null,
      "outputs": []
    },
    {
      "cell_type": "code",
      "metadata": {
        "id": "YRrvFIkykrKq"
      },
      "source": [
        "import nltk\n",
        "nltk.download('punkt')\n",
        "import nltk  \n",
        "nltk.download('stopwords')"
      ],
      "execution_count": null,
      "outputs": []
    },
    {
      "cell_type": "code",
      "metadata": {
        "id": "UwYdramAkrKr"
      },
      "source": [
        "tokens=word_tokenize(df)\n",
        "len(tokens)"
      ],
      "execution_count": null,
      "outputs": []
    },
    {
      "cell_type": "code",
      "metadata": {
        "id": "JQ8qPeuDkrKs"
      },
      "source": [
        "from nltk.probability import FreqDist\n",
        "x=FreqDist()\n",
        "for word in tokens:\n",
        "  x[word.lower()]+=1\n",
        "x"
      ],
      "execution_count": null,
      "outputs": []
    },
    {
      "cell_type": "code",
      "metadata": {
        "id": "uM2z78ZJkrKv"
      },
      "source": [
        "words = [word for word in tokens if word.isalpha()]\n",
        "words"
      ],
      "execution_count": null,
      "outputs": []
    },
    {
      "cell_type": "code",
      "metadata": {
        "id": "TtD7z-tSkrKx"
      },
      "source": [
        "len(words)"
      ],
      "execution_count": null,
      "outputs": []
    },
    {
      "cell_type": "code",
      "metadata": {
        "id": "q4TOjeCmkrK0"
      },
      "source": [
        "from nltk.corpus import stopwords\n",
        "dt=stopwords.words('english')"
      ],
      "execution_count": null,
      "outputs": []
    },
    {
      "cell_type": "code",
      "metadata": {
        "id": "crCcmK7OkrK1"
      },
      "source": [
        "word = [w for w in words if not w in dt]\n",
        "print(word)"
      ],
      "execution_count": null,
      "outputs": []
    },
    {
      "cell_type": "code",
      "metadata": {
        "id": "6ydy0H0akrK2"
      },
      "source": [
        "y=FreqDist()\n",
        "for a in word:\n",
        "  y[a.lower()]+=1\n",
        "y.most_common(10)"
      ],
      "execution_count": null,
      "outputs": []
    },
    {
      "cell_type": "code",
      "metadata": {
        "id": "YKapng6JkrK2"
      },
      "source": [
        "len(y)"
      ],
      "execution_count": null,
      "outputs": []
    },
    {
      "cell_type": "code",
      "metadata": {
        "id": "TTa6WhG9krK3"
      },
      "source": [
        "coun=['craft','want','digital marketing','content writing','handmade']\n",
        "tokens.count('craft')"
      ],
      "execution_count": null,
      "outputs": []
    },
    {
      "cell_type": "code",
      "metadata": {
        "id": "_DxAm7aFkrK4"
      },
      "source": [
        "df1['startup'] =pd.Series(y.keys())"
      ],
      "execution_count": null,
      "outputs": []
    },
    {
      "cell_type": "code",
      "metadata": {
        "id": "YBtHmYY2krK4"
      },
      "source": [
        "nltk.download('averaged_perceptron_tagger')\n",
        "pos =[]\n",
        "for token in word:\n",
        "    pos = nltk.pos_tag([token])"
      ],
      "execution_count": null,
      "outputs": []
    },
    {
      "cell_type": "code",
      "metadata": {
        "id": "JRm9mNuokrK5"
      },
      "source": [
        "word"
      ],
      "execution_count": null,
      "outputs": []
    },
    {
      "cell_type": "code",
      "metadata": {
        "id": "yFRqpcd4krK5"
      },
      "source": [
        "pos = nltk.pos_tag(word)\n",
        "pos"
      ],
      "execution_count": null,
      "outputs": []
    },
    {
      "cell_type": "code",
      "metadata": {
        "id": "MlqjWfEukrK6"
      },
      "source": [
        "nltk.download('maxent_ne_chunker')\n",
        "nltk.download('words')\n",
        "from nltk import ne_chunk"
      ],
      "execution_count": null,
      "outputs": []
    },
    {
      "cell_type": "code",
      "metadata": {
        "id": "BSCiWLwHkrK7"
      },
      "source": [
        "chunk= ne_chunk(pos)\n",
        "chunk.__repr__()"
      ],
      "execution_count": null,
      "outputs": []
    },
    {
      "cell_type": "code",
      "metadata": {
        "id": "smU4j31xkrK7"
      },
      "source": [
        "grammer = ('''NP: {<NN.>?}''')\n",
        "chunkParser = nltk.RegexpParser(grammer)"
      ],
      "execution_count": null,
      "outputs": []
    },
    {
      "cell_type": "code",
      "metadata": {
        "id": "_WsmttFwkrK8"
      },
      "source": [
        "result=chunkParser.parse(chunk)\n",
        "result"
      ],
      "execution_count": null,
      "outputs": []
    },
    {
      "cell_type": "code",
      "metadata": {
        "id": "sYYh-T-hkrK8"
      },
      "source": [
        "from collections import Counter\n",
        "\n",
        "def count_words(tokens, selected_words):\n",
        "    words_count = Counter()"
      ],
      "execution_count": null,
      "outputs": []
    },
    {
      "cell_type": "code",
      "metadata": {
        "id": "w_kU7opCkrK9"
      },
      "source": [
        "pos"
      ],
      "execution_count": null,
      "outputs": []
    },
    {
      "cell_type": "code",
      "metadata": {
        "id": "PgQsHjJTkrK9"
      },
      "source": [
        "new_list = []\n",
        "for i in pos:\n",
        "        if i[1].startswith(\"NN\" or 'NNS' or 'JJ' or 'VBG'):\n",
        "            temp = i[0]\n",
        "            new_list.append(temp)\n",
        "new_list"
      ],
      "execution_count": null,
      "outputs": []
    },
    {
      "cell_type": "code",
      "metadata": {
        "id": "JYQsoJKzkrK-"
      },
      "source": [
        "for i in pos:\n",
        "    print(i[0])"
      ],
      "execution_count": null,
      "outputs": []
    },
    {
      "cell_type": "code",
      "metadata": {
        "id": "Oc9c6J5ckrK-"
      },
      "source": [
        "len(new_list)"
      ],
      "execution_count": null,
      "outputs": []
    },
    {
      "cell_type": "code",
      "metadata": {
        "id": "ULF5aEUSkrK-"
      },
      "source": [
        "z=FreqDist()\n",
        "for a in new_list:\n",
        "  z[a.lower()]+=1\n",
        "z.most_common(10)"
      ],
      "execution_count": null,
      "outputs": []
    },
    {
      "cell_type": "code",
      "metadata": {
        "id": "6uxryBCckrK_"
      },
      "source": [
        "for i in new_list:\n",
        "    i.replace('art','\\bcraft\\b')\n",
        "new_list"
      ],
      "execution_count": null,
      "outputs": []
    },
    {
      "cell_type": "code",
      "metadata": {
        "id": "KYelToQhkrK_"
      },
      "source": [
        "z"
      ],
      "execution_count": null,
      "outputs": []
    },
    {
      "cell_type": "code",
      "metadata": {
        "id": "p61QN72tkrK_"
      },
      "source": [
        "df2 =pd.DataFrame(z.items(),columns=['startup','no. of women'])\n",
        "df2"
      ],
      "execution_count": null,
      "outputs": []
    },
    {
      "cell_type": "code",
      "metadata": {
        "id": "QOKLlo9OkrLA"
      },
      "source": [
        "df2.sort_values(by= 'no. of women' ,inplace = True,ascending=False)\n",
        "df2"
      ],
      "execution_count": null,
      "outputs": []
    },
    {
      "cell_type": "code",
      "metadata": {
        "id": "XcIiV71_krLA"
      },
      "source": [
        "df1['City']= df1['City'].str.lower()\n",
        "df1"
      ],
      "execution_count": null,
      "outputs": []
    },
    {
      "cell_type": "code",
      "metadata": {
        "id": "lnNEQB0CkrLA"
      },
      "source": [
        "df1= df1.drop(['startup','Full Name'],axis=1)"
      ],
      "execution_count": null,
      "outputs": []
    },
    {
      "cell_type": "code",
      "metadata": {
        "id": "Bc-dqtWWkrLB"
      },
      "source": [
        "df1['hour']= df1['Timestamp'].dt.hour"
      ],
      "execution_count": null,
      "outputs": []
    },
    {
      "cell_type": "code",
      "metadata": {
        "id": "nSfC9nTpkrLB"
      },
      "source": [
        "df1"
      ],
      "execution_count": null,
      "outputs": []
    },
    {
      "cell_type": "code",
      "metadata": {
        "id": "qMvapln5krLB"
      },
      "source": [
        "\n",
        "df1= df1.drop(['Timestamp'],axis=1)"
      ],
      "execution_count": null,
      "outputs": []
    },
    {
      "cell_type": "code",
      "metadata": {
        "id": "wlR2dxNnkrLC",
        "outputId": "c2867b2f-fd73-4add-f2ee-8234931ec235"
      },
      "source": [
        "ex= pd.ExcelWriter('Task3[2].xlsx')\n",
        "df1.to_excel(ex,'Sheet1')\n",
        "ex.save()"
      ],
      "execution_count": null,
      "outputs": [
        {
          "ename": "NameError",
          "evalue": "name 'pd' is not defined",
          "output_type": "error",
          "traceback": [
            "\u001b[1;31m---------------------------------------------------------------------------\u001b[0m",
            "\u001b[1;31mNameError\u001b[0m                                 Traceback (most recent call last)",
            "\u001b[1;32m<ipython-input-2-c3308c072545>\u001b[0m in \u001b[0;36m<module>\u001b[1;34m\u001b[0m\n\u001b[1;32m----> 1\u001b[1;33m \u001b[0mex\u001b[0m\u001b[1;33m=\u001b[0m \u001b[0mpd\u001b[0m\u001b[1;33m.\u001b[0m\u001b[0mExcelWriter\u001b[0m\u001b[1;33m(\u001b[0m\u001b[1;34m'Task3[2].xlsx'\u001b[0m\u001b[1;33m)\u001b[0m\u001b[1;33m\u001b[0m\u001b[1;33m\u001b[0m\u001b[0m\n\u001b[0m\u001b[0;32m      2\u001b[0m \u001b[0mdf1\u001b[0m\u001b[1;33m.\u001b[0m\u001b[0mto_excel\u001b[0m\u001b[1;33m(\u001b[0m\u001b[0mex\u001b[0m\u001b[1;33m,\u001b[0m\u001b[1;34m'Sheet1'\u001b[0m\u001b[1;33m)\u001b[0m\u001b[1;33m\u001b[0m\u001b[1;33m\u001b[0m\u001b[0m\n\u001b[0;32m      3\u001b[0m \u001b[0mex\u001b[0m\u001b[1;33m.\u001b[0m\u001b[0msave\u001b[0m\u001b[1;33m(\u001b[0m\u001b[1;33m)\u001b[0m\u001b[1;33m\u001b[0m\u001b[1;33m\u001b[0m\u001b[0m\n",
            "\u001b[1;31mNameError\u001b[0m: name 'pd' is not defined"
          ]
        }
      ]
    },
    {
      "cell_type": "code",
      "metadata": {
        "id": "-VTO6TzVkrLC"
      },
      "source": [
        ""
      ],
      "execution_count": null,
      "outputs": []
    }
  ]
}