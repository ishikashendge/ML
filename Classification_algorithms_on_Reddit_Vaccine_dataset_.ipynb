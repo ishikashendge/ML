{
  "nbformat": 4,
  "nbformat_minor": 0,
  "metadata": {
    "colab": {
      "name": "Classification algorithms on Reddit Vaccine dataset .ipynb",
      "provenance": [],
      "include_colab_link": true
    },
    "kernelspec": {
      "name": "python3",
      "display_name": "Python 3"
    },
    "language_info": {
      "name": "python"
    }
  },
  "cells": [
    {
      "cell_type": "markdown",
      "metadata": {
        "id": "view-in-github",
        "colab_type": "text"
      },
      "source": [
        "<a href=\"https://colab.research.google.com/github/ishikashendge/ML/blob/main/Classification_algorithms_on_Reddit_Vaccine_dataset_.ipynb\" target=\"_parent\"><img src=\"https://colab.research.google.com/assets/colab-badge.svg\" alt=\"Open In Colab\"/></a>"
      ]
    },
    {
      "cell_type": "code",
      "metadata": {
        "id": "pP9Hcx1EKAV8"
      },
      "source": [
        "from sklearn import datasets, linear_model, metrics\n",
        "import csv \n",
        "import numpy as np \n",
        "import matplotlib.pyplot as plt \n",
        "import pandas as pd \n",
        "dataset = pd.read_csv('/reddit_vm.csv')  \n",
        "dataset=np.array(dataset) "
      ],
      "execution_count": null,
      "outputs": []
    },
    {
      "cell_type": "code",
      "metadata": {
        "id": "lKbGfjp4LIDv",
        "colab": {
          "base_uri": "https://localhost:8080/"
        },
        "outputId": "ec1c1dc7-3984-4d97-8517-b16c80080b77"
      },
      "source": [
        "from google.colab import drive\n",
        "drive.mount('/content/drive')"
      ],
      "execution_count": null,
      "outputs": [
        {
          "output_type": "stream",
          "text": [
            "Drive already mounted at /content/drive; to attempt to forcibly remount, call drive.mount(\"/content/drive\", force_remount=True).\n"
          ],
          "name": "stdout"
        }
      ]
    },
    {
      "cell_type": "code",
      "metadata": {
        "id": "p_aU1By_KHBs"
      },
      "source": [
        "from sklearn import datasets\n",
        "dataset = datasets.load_iris()\n",
        "features=dataset.data\n",
        "label=dataset.target"
      ],
      "execution_count": null,
      "outputs": []
    },
    {
      "cell_type": "code",
      "metadata": {
        "id": "BS1u6G6fnN8N"
      },
      "source": [
        "from sklearn.model_selection import train_test_split\n",
        "X_train,X_test,Y_train,Y_test=train_test_split(features,label,test_size=0.5)"
      ],
      "execution_count": null,
      "outputs": []
    },
    {
      "cell_type": "code",
      "metadata": {
        "id": "fsF-jtSaKdSj",
        "colab": {
          "base_uri": "https://localhost:8080/"
        },
        "outputId": "f00f763f-39e0-4a68-e619-5fccedce5f6f"
      },
      "source": [
        "\n",
        "\n",
        "#LOGISTIC REGRESSION\n",
        "from sklearn.linear_model import LogisticRegression\n",
        "model=LogisticRegression()\n",
        "\n",
        "#K-NEAREST NEIGHBORS(KNN)\n",
        "#from sklearn.neighbors import KNeighborsClassifier\n",
        "#model=KNeighborsClassifier()\n",
        "\n",
        "#NAIVE BAYES\n",
        "#from sklearn.naive_bayes import GaussianNB\n",
        "#model=GaussianNB()\n",
        "\n",
        "model.fit(X_train,Y_train)\n",
        "y_ans=model.predict(X_test)\n",
        "\n",
        "model.score(X_test,Y_test)"
      ],
      "execution_count": null,
      "outputs": [
        {
          "output_type": "stream",
          "text": [
            "/usr/local/lib/python3.7/dist-packages/sklearn/linear_model/_logistic.py:940: ConvergenceWarning: lbfgs failed to converge (status=1):\n",
            "STOP: TOTAL NO. of ITERATIONS REACHED LIMIT.\n",
            "\n",
            "Increase the number of iterations (max_iter) or scale the data as shown in:\n",
            "    https://scikit-learn.org/stable/modules/preprocessing.html\n",
            "Please also refer to the documentation for alternative solver options:\n",
            "    https://scikit-learn.org/stable/modules/linear_model.html#logistic-regression\n",
            "  extra_warning_msg=_LOGISTIC_SOLVER_CONVERGENCE_MSG)\n"
          ],
          "name": "stderr"
        },
        {
          "output_type": "execute_result",
          "data": {
            "text/plain": [
              "0.9733333333333334"
            ]
          },
          "metadata": {
            "tags": []
          },
          "execution_count": 6
        }
      ]
    },
    {
      "cell_type": "code",
      "metadata": {
        "colab": {
          "base_uri": "https://localhost:8080/"
        },
        "id": "IoGuSoX4LrkP",
        "outputId": "be5ff9eb-f45d-47e2-8255-c811a6a2b0f1"
      },
      "source": [
        "\n",
        "\n",
        "#LOGISTIC REGRESSION\n",
        "#from sklearn.linear_model import LogisticRegression\n",
        "#model=LogisticRegression()\n",
        "\n",
        "#K-NEAREST NEIGHBORS(KNN)\n",
        "from sklearn.neighbors import KNeighborsClassifier\n",
        "model=KNeighborsClassifier()\n",
        "\n",
        "#NAIVE BAYES\n",
        "#from sklearn.naive_bayes import GaussianNB\n",
        "#model=GaussianNB()\n",
        "\n",
        "model.fit(X_train,Y_train)\n",
        "y_ans=model.predict(X_test)\n",
        "\n",
        "model.score(X_test,Y_test)"
      ],
      "execution_count": null,
      "outputs": [
        {
          "output_type": "execute_result",
          "data": {
            "text/plain": [
              "0.96"
            ]
          },
          "metadata": {
            "tags": []
          },
          "execution_count": 7
        }
      ]
    },
    {
      "cell_type": "code",
      "metadata": {
        "colab": {
          "base_uri": "https://localhost:8080/"
        },
        "id": "NKgzwCtBLzlX",
        "outputId": "04eac2ec-118b-4d69-8b76-f053db8b48e3"
      },
      "source": [
        "\n",
        "\n",
        "#LOGISTIC REGRESSION\n",
        "#from sklearn.linear_model import LogisticRegression\n",
        "#model=LogisticRegression()\n",
        "\n",
        "#K-NEAREST NEIGHBORS(KNN)\n",
        "#from sklearn.neighbors import KNeighborsClassifier\n",
        "#model=KNeighborsClassifier()\n",
        "\n",
        "#NAIVE BAYES\n",
        "from sklearn.naive_bayes import GaussianNB\n",
        "model=GaussianNB()\n",
        "\n",
        "model.fit(X_train,Y_train)\n",
        "y_ans=model.predict(X_test)\n",
        "\n",
        "model.score(X_test,Y_test)"
      ],
      "execution_count": null,
      "outputs": [
        {
          "output_type": "execute_result",
          "data": {
            "text/plain": [
              "0.9466666666666667"
            ]
          },
          "metadata": {
            "tags": []
          },
          "execution_count": 8
        }
      ]
    }
  ]
}